{
  "nbformat": 4,
  "nbformat_minor": 0,
  "metadata": {
    "colab": {
      "provenance": [],
      "collapsed_sections": [],
      "authorship_tag": "ABX9TyMeqLpEpjQoF1XA28xL+CZY",
      "include_colab_link": true
    },
    "kernelspec": {
      "name": "python3",
      "display_name": "Python 3"
    },
    "language_info": {
      "name": "python"
    }
  },
  "cells": [
    {
      "cell_type": "markdown",
      "metadata": {
        "id": "view-in-github",
        "colab_type": "text"
      },
      "source": [
        "<a href=\"https://colab.research.google.com/github/VarijaGupte/AICS/blob/main/AICS1.ipynb\" target=\"_parent\"><img src=\"https://colab.research.google.com/assets/colab-badge.svg\" alt=\"Open In Colab\"/></a>"
      ]
    },
    {
      "cell_type": "code",
      "execution_count": 2,
      "metadata": {
        "colab": {
          "base_uri": "https://localhost:8080/"
        },
        "id": "m0LjQRc4DVHS",
        "outputId": "e7308ec3-6e5d-4f66-ffa3-563c4faff031"
      },
      "outputs": [
        {
          "output_type": "stream",
          "name": "stdout",
          "text": [
            "Not exists\n"
          ]
        }
      ],
      "source": [
        "#DICTIONARY EX 1\n",
        "d = {\"name\": \"Tom\", \"age\":10}\n",
        "key = \"phone\"\n",
        "if key in d:\n",
        "    print(\"Key exists\")\n",
        "else:\n",
        "    print(\"Not exists\")"
      ]
    },
    {
      "cell_type": "code",
      "source": [
        "#DICTIONARY EX2\n",
        "d1 = {'a':1, 'b':2}\n",
        "d1 = {'c':1, 'd':2}\n",
        "d2.update(d1)\n",
        "d2\n"
      ],
      "metadata": {
        "colab": {
          "base_uri": "https://localhost:8080/"
        },
        "id": "SNpYNHIxEkB9",
        "outputId": "cd284e5e-76bc-4590-868a-39c42eef8cb9"
      },
      "execution_count": 5,
      "outputs": [
        {
          "output_type": "execute_result",
          "data": {
            "text/plain": [
              "{'c': 1, 'd': 2, 'a': 1, 'b': 2}"
            ]
          },
          "metadata": {},
          "execution_count": 5
        }
      ]
    },
    {
      "cell_type": "code",
      "source": [
        "#DICTIONARY EX3\n",
        "d = {'ob1':'computer', 'ob2':'mouse', 'ob3':'printer'}\n",
        "del d['ob1']\n",
        "print(d)"
      ],
      "metadata": {
        "colab": {
          "base_uri": "https://localhost:8080/"
        },
        "id": "TCjpdH3IFFj1",
        "outputId": "e5e5d9b7-e26a-4166-848f-a8bc09a9d888"
      },
      "execution_count": 13,
      "outputs": [
        {
          "output_type": "stream",
          "name": "stdout",
          "text": [
            "{'ob2': 'mouse', 'ob3': 'printer'}\n"
          ]
        }
      ]
    },
    {
      "cell_type": "code",
      "source": [
        "#LIST EX1\n",
        "list1 = [1, 2, 3, 'Education']\n",
        "for i in range(7, 9):\n",
        "    list1.append(i)\n",
        "print(list1)"
      ],
      "metadata": {
        "colab": {
          "base_uri": "https://localhost:8080/"
        },
        "id": "3Ym-2syRFjgF",
        "outputId": "e9a6a815-b558-4775-f9db-ea26163c6a9a"
      },
      "execution_count": 14,
      "outputs": [
        {
          "output_type": "stream",
          "name": "stdout",
          "text": [
            "[1, 2, 3, 'Education', 7, 8]\n"
          ]
        }
      ]
    },
    {
      "cell_type": "code",
      "source": [
        "#LIST EX2\n",
        "list1.remove(2)\n",
        "print(list1)"
      ],
      "metadata": {
        "colab": {
          "base_uri": "https://localhost:8080/"
        },
        "id": "q3qRlC2aGb2O",
        "outputId": "436469a5-103e-4a32-afa1-8ebb83c2e62f"
      },
      "execution_count": 15,
      "outputs": [
        {
          "output_type": "stream",
          "name": "stdout",
          "text": [
            "[1, 3, 'Education', 7, 8]\n"
          ]
        }
      ]
    },
    {
      "cell_type": "code",
      "source": [
        "#LIST  EX3\n",
        "print(list1[2:])"
      ],
      "metadata": {
        "colab": {
          "base_uri": "https://localhost:8080/"
        },
        "id": "s2u0xf4wHS5F",
        "outputId": "274150dd-fcb9-4bb6-8c26-a8154a3ec0ca"
      },
      "execution_count": 16,
      "outputs": [
        {
          "output_type": "stream",
          "name": "stdout",
          "text": [
            "['Education', 7, 8]\n"
          ]
        }
      ]
    },
    {
      "cell_type": "code",
      "source": [],
      "metadata": {
        "id": "CsU1-723L4_2"
      },
      "execution_count": null,
      "outputs": []
    }
  ]
}